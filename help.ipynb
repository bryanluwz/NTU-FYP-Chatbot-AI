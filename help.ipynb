{
 "cells": [
  {
   "cell_type": "code",
   "execution_count": 1,
   "metadata": {},
   "outputs": [],
   "source": [
    "import os\n",
    "from langchain_huggingface import HuggingFaceEmbeddings\n",
    "from langchain.vectorstores import FAISS\n",
    "from langchain.document_loaders import PyPDFLoader\n",
    "from langchain.text_splitter import CharacterTextSplitter\n",
    "from langchain.chains import RetrievalQA\n",
    "from langchain.llms import HuggingFacePipeline\n",
    "from transformers import pipeline"
   ]
  },
  {
   "cell_type": "code",
   "execution_count": 2,
   "metadata": {},
   "outputs": [],
   "source": [
    "def query_pdf(query):\n",
    "    # Initialize embeddings using the updated HuggingFaceEmbeddings\n",
    "    embeddings = HuggingFaceEmbeddings(model_name=\"paraphrase-MiniLM-L6-v2\")\n",
    "\n",
    "    # Define the path for the vector store\n",
    "    vector_store_path = \"vector_store/test\"\n",
    "\n",
    "    # Check if the vectors are already persisted\n",
    "    try:\n",
    "        faiss_index_path = f\"{vector_store_path}/index.faiss\"\n",
    "        faiss_metadata_path = f\"{vector_store_path}/index.pkl\"\n",
    "        if os.path.exists(faiss_index_path) and os.path.exists(faiss_metadata_path):\n",
    "            # Load persisted vector store\n",
    "            persisted_vectorstore = FAISS.load_local(\n",
    "                vector_store_path, embeddings, allow_dangerous_deserialization=True)\n",
    "            print(\"✅ Loaded vector store from local storage.\")\n",
    "        else:\n",
    "            raise FileNotFoundError\n",
    "    except FileNotFoundError:\n",
    "        print(\"⚠️ Vector store not found. Creating a new vector store...\")\n",
    "\n",
    "        # Load document using PyPDFLoader\n",
    "        loader = PyPDFLoader(\"./documents/SC1015_BasicInformation.pdf\")\n",
    "        documents = loader.load()\n",
    "\n",
    "        # Split document into chunks\n",
    "        text_splitter = CharacterTextSplitter(\n",
    "            chunk_size=1000,\n",
    "            chunk_overlap=30,\n",
    "            separator=\"\\n\"\n",
    "        )\n",
    "        docs = text_splitter.split_documents(documents)\n",
    "\n",
    "        # Create vectors using FAISS\n",
    "        vectorstore = FAISS.from_documents(docs, embeddings)\n",
    "\n",
    "        # Persist the vectors locally on disk\n",
    "        vectorstore.save_local(vector_store_path)\n",
    "        print(\"💾 Vector store saved locally.\")\n",
    "\n",
    "        # Load the persisted vector store after saving\n",
    "        persisted_vectorstore = FAISS.load_local(\n",
    "            vector_store_path, embeddings, allow_dangerous_deserialization=True)\n",
    "\n",
    "    # Initialize the Hugging Face text-generation pipeline\n",
    "    text_gen_pipeline = pipeline(\n",
    "        \"text-generation\",\n",
    "        model=\"distilgpt2\",  # You can choose a more powerful model if needed\n",
    "        tokenizer=\"distilgpt2\",\n",
    "        framework=\"pt\",  # Use \"tf\" if you prefer TensorFlow\n",
    "        max_length=512,  # Adjust as needed\n",
    "        max_new_tokens=512,   # Adjust as needed\n",
    "        do_sample=True,\n",
    "        temperature=0.7\n",
    "    )\n",
    "\n",
    "    # Wrap the pipeline with LangChain's HuggingFacePipeline\n",
    "    llm = HuggingFacePipeline(pipeline=text_gen_pipeline)\n",
    "\n",
    "    # Initialize the RetrievalQA chain with the wrapped LLM\n",
    "    qa = RetrievalQA.from_chain_type(\n",
    "        llm=llm,\n",
    "        chain_type=\"stuff\",\n",
    "        retriever=persisted_vectorstore.as_retriever(),\n",
    "        verbose=True  # Optional: Set to True for more detailed logs\n",
    "    )\n",
    "\n",
    "    # Run the query and return the result\n",
    "    result = qa.run(query)\n",
    "    print(\"\\n📝 Query Result:\")\n",
    "    print(result)"
   ]
  },
  {
   "cell_type": "code",
   "execution_count": 3,
   "metadata": {},
   "outputs": [
    {
     "data": {
      "application/vnd.jupyter.widget-view+json": {
       "model_id": "ee7bcb4e8a2c42bf9302fedf1c425fb0",
       "version_major": 2,
       "version_minor": 0
      },
      "text/plain": [
       "modules.json:   0%|          | 0.00/229 [00:00<?, ?B/s]"
      ]
     },
     "metadata": {},
     "output_type": "display_data"
    },
    {
     "name": "stderr",
     "output_type": "stream",
     "text": [
      "c:\\Users\\bryan\\Documents\\GitHub\\NTU-FYP-Chatbot-AI\\venv\\lib\\site-packages\\huggingface_hub\\file_download.py:147: UserWarning: `huggingface_hub` cache-system uses symlinks by default to efficiently store duplicated files but your machine does not support them in C:\\Users\\bryan\\.cache\\huggingface\\hub\\models--sentence-transformers--paraphrase-MiniLM-L6-v2. Caching files will still work but in a degraded version that might require more space on your disk. This warning can be disabled by setting the `HF_HUB_DISABLE_SYMLINKS_WARNING` environment variable. For more details, see https://huggingface.co/docs/huggingface_hub/how-to-cache#limitations.\n",
      "To support symlinks on Windows, you either need to activate Developer Mode or to run Python as an administrator. In order to activate developer mode, see this article: https://docs.microsoft.com/en-us/windows/apps/get-started/enable-your-device-for-development\n",
      "  warnings.warn(message)\n"
     ]
    },
    {
     "data": {
      "application/vnd.jupyter.widget-view+json": {
       "model_id": "ea73cce9e32e45aa977e8eac570d6eec",
       "version_major": 2,
       "version_minor": 0
      },
      "text/plain": [
       "config_sentence_transformers.json:   0%|          | 0.00/122 [00:00<?, ?B/s]"
      ]
     },
     "metadata": {},
     "output_type": "display_data"
    },
    {
     "data": {
      "application/vnd.jupyter.widget-view+json": {
       "model_id": "a06adb42d843426b8c35ae44853d240c",
       "version_major": 2,
       "version_minor": 0
      },
      "text/plain": [
       "README.md:   0%|          | 0.00/3.73k [00:00<?, ?B/s]"
      ]
     },
     "metadata": {},
     "output_type": "display_data"
    },
    {
     "data": {
      "application/vnd.jupyter.widget-view+json": {
       "model_id": "d7fc5a1a8f2a481c8da9195dbc63cf66",
       "version_major": 2,
       "version_minor": 0
      },
      "text/plain": [
       "sentence_bert_config.json:   0%|          | 0.00/53.0 [00:00<?, ?B/s]"
      ]
     },
     "metadata": {},
     "output_type": "display_data"
    },
    {
     "data": {
      "application/vnd.jupyter.widget-view+json": {
       "model_id": "2568a085c94e4dc28236ad3f71156a86",
       "version_major": 2,
       "version_minor": 0
      },
      "text/plain": [
       "config.json:   0%|          | 0.00/629 [00:00<?, ?B/s]"
      ]
     },
     "metadata": {},
     "output_type": "display_data"
    },
    {
     "data": {
      "application/vnd.jupyter.widget-view+json": {
       "model_id": "8e34e0dadd9b488cb304c47d655cbc61",
       "version_major": 2,
       "version_minor": 0
      },
      "text/plain": [
       "model.safetensors:   0%|          | 0.00/90.9M [00:00<?, ?B/s]"
      ]
     },
     "metadata": {},
     "output_type": "display_data"
    },
    {
     "data": {
      "application/vnd.jupyter.widget-view+json": {
       "model_id": "2c47971670144b97a77fc8e5a38f45a8",
       "version_major": 2,
       "version_minor": 0
      },
      "text/plain": [
       "tokenizer_config.json:   0%|          | 0.00/314 [00:00<?, ?B/s]"
      ]
     },
     "metadata": {},
     "output_type": "display_data"
    },
    {
     "data": {
      "application/vnd.jupyter.widget-view+json": {
       "model_id": "bdd4a798e5a84934adc4bb2ddeab7048",
       "version_major": 2,
       "version_minor": 0
      },
      "text/plain": [
       "vocab.txt:   0%|          | 0.00/232k [00:00<?, ?B/s]"
      ]
     },
     "metadata": {},
     "output_type": "display_data"
    },
    {
     "data": {
      "application/vnd.jupyter.widget-view+json": {
       "model_id": "21da7fd142af4774a7d166349fb713f1",
       "version_major": 2,
       "version_minor": 0
      },
      "text/plain": [
       "tokenizer.json:   0%|          | 0.00/466k [00:00<?, ?B/s]"
      ]
     },
     "metadata": {},
     "output_type": "display_data"
    },
    {
     "data": {
      "application/vnd.jupyter.widget-view+json": {
       "model_id": "863075fa63604fe4aa1124812627057b",
       "version_major": 2,
       "version_minor": 0
      },
      "text/plain": [
       "special_tokens_map.json:   0%|          | 0.00/112 [00:00<?, ?B/s]"
      ]
     },
     "metadata": {},
     "output_type": "display_data"
    },
    {
     "data": {
      "application/vnd.jupyter.widget-view+json": {
       "model_id": "48e1cf5d976a4428be80deaaf7faec5e",
       "version_major": 2,
       "version_minor": 0
      },
      "text/plain": [
       "1_Pooling/config.json:   0%|          | 0.00/190 [00:00<?, ?B/s]"
      ]
     },
     "metadata": {},
     "output_type": "display_data"
    },
    {
     "name": "stdout",
     "output_type": "stream",
     "text": [
      "✅ Loaded vector store from local storage.\n"
     ]
    },
    {
     "name": "stderr",
     "output_type": "stream",
     "text": [
      "C:\\Users\\bryan\\AppData\\Local\\Temp\\ipykernel_7004\\4206458729.py:58: LangChainDeprecationWarning: The class `HuggingFacePipeline` was deprecated in LangChain 0.0.37 and will be removed in 1.0. An updated version of the class exists in the :class:`~langchain-huggingface package and should be used instead. To use it run `pip install -U :class:`~langchain-huggingface` and import as `from :class:`~langchain_huggingface import HuggingFacePipeline``.\n",
      "  llm = HuggingFacePipeline(pipeline=text_gen_pipeline)\n",
      "C:\\Users\\bryan\\AppData\\Local\\Temp\\ipykernel_7004\\4206458729.py:69: LangChainDeprecationWarning: The method `Chain.run` was deprecated in langchain 0.1.0 and will be removed in 1.0. Use :meth:`~invoke` instead.\n",
      "  result = qa.run(query)\n",
      "Truncation was not explicitly activated but `max_length` is provided a specific value, please use `truncation=True` to explicitly truncate examples to max length. Defaulting to 'longest_first' truncation strategy. If you encode pairs of sequences (GLUE-style) with the tokenizer you can select this strategy more precisely by providing a specific strategy to `truncation`.\n",
      "Setting `pad_token_id` to `eos_token_id`:None for open-end generation.\n",
      "Both `max_new_tokens` (=512) and `max_length`(=512) seem to have been set. `max_new_tokens` will take precedence. Please refer to the documentation for more information. (https://huggingface.co/docs/transformers/main/en/main_classes/text_generation)\n"
     ]
    },
    {
     "name": "stdout",
     "output_type": "stream",
     "text": [
      "\n",
      "\n",
      "\u001b[1m> Entering new RetrievalQA chain...\u001b[0m\n",
      "\n",
      "\u001b[1m> Finished chain.\u001b[0m\n",
      "\n",
      "📝 Query Result:\n",
      "Use the following pieces of context to answer the question at the end. If you don't know the answer, just say that you don't know, don't try to make up an answer.\n",
      "\n",
      "Page 1  SC1015 : Course  Information  \n",
      "Introduction  to Data Science  and Artificial  Intelligence  \n",
      " \n",
      " \n",
      " \n",
      "Course  Instructors Dr K G  Smitha (Co-Ord) smitha@ntu.edu.sg  Office  : N4-02c-75 \n",
      "LAMS  and Reviews  Mr. Ong Chin Ann chinann.ong@ntu.edu.sg  Office  : N4-02c-108 \n",
      " \n",
      "Lab Instructors   \n",
      "Graduate  Teaching  Assistants   \n",
      "Note email  of your Lab’s TA   \n",
      "Lab Exercises  (will work closely  with Co-Ord) Details  posted  in TimeTable   \n",
      " \n",
      " \n",
      "General Information  \n",
      "Description  \n",
      "In today's  era of Information,  ‘Data’  is the new driving force, provided we \n",
      "know  how to extract  relevant  ‘Intelligence’.  \n",
      "This course  will start with the core principles  of Data Science,  and will  equip  \n",
      "you with the basic tools and techniques  of data handling,  exploratory  data \n",
      "analysis,  data visualization,  data-based  inference,  and data-focused  \n",
      "communication.  The course  will also introduce  you to the fundamentals  of\n",
      "\n",
      "communicate  the problem  and the inference,  outline  the roles and requirements  of artificial  intelligence  in practical  \n",
      "applications,  apply  basic artificial  intelligence  techniques  in search  problems  and game  playing,  and discuss  and explain  \n",
      "concepts  of computer  vision  and natural  language  processing.  \n",
      " \n",
      " \n",
      "Course  Material  \n",
      "There  is no single  textbook for  the course.  The following books  and resources  will be used as  references  time and again.  \n",
      "1. Python  Data Science  Handbook  : Jake VanderPlas : O’Reilly  (1st edition)  \n",
      "2. An Introduction  to Statistical  Learning  : James,  Witten, Hastie,  Tibshirani  \n",
      "3. Artificial  Intelligence:  A Modern  Approach : Russell  and Norvig  (3rd edition)  \n",
      "Additional  resources,  if required,  will be shared  with you in the LAMS  videos,  face-to-face lectures,  and example  classes.\n",
      "\n",
      "Artificial  Intelligence  – state space,  search  problems,  computer  vision  and \n",
      "natural  language  processing.  \n",
      "The course  will motivate  you to work closely  with data and make  data-driven  \n",
      "decisions  in your field of study.  The course  will also touch  upon ethical  issues \n",
      "in Data Science  and Artificial  Intelligence,  and motivate  you to explore  the \n",
      "cutting -edge applications  related  to Big Data,  Neural  Networks  and Deep \n",
      "Learning.  Python  will be the language  of choice  to introduce  hands -on \n",
      "computational  techniques.  \n",
      " \n",
      "Outcome  \n",
      "By the end of this course,  you should  be able to identify  and define  data- \n",
      "oriented  problems  and data-driven  decisions  in real life, discuss and illustrate  \n",
      "the problems  in terms  of data exploration  and visualization,  apply  basic \n",
      "machine  learning  tools to extract  inferential  information  from the data,  compose  an engaging  “data- story”  to\n",
      "\n",
      "Module  06 1 Week  Artificial  Intelligence  – Current  State -of-the-Art No Lab Session  for this Module  \n",
      "Module  07 2 Weeks  Intelligent  Agents  and Search  Space  Solutions  Uninformed  and Informed  Search  \n",
      "Module  08 1 Week  Constraint  Satisfaction  and Game  Playing  Game  with Constrained  Search  \n",
      "Module  09 e-Learning  Miscellaneous  topics  in Artificial  Intelligence  No Lab Session  for this Module  \n",
      " \n",
      "Miscellaneous  topics in  AI may include  basic introduction  to cutting -edge practical  domains  like Computer  Vision,  \n",
      "Natural  Language  Processing, Reinforcement  Learning,  as well as Ethics in  the context  of Data Science and AI.\n",
      "\n",
      "Question: What is the purpose of SC1015?\n",
      "Helpful Answer:, & Ewen.  \n",
      "3. Introduction to Statistical  Learning  : Steve,   \n",
      "4. Introduction to Statistical  Learning  : Steve,   \n",
      "5. Introduction to Statistical  Learning  : Steve,   \n",
      "6. Introduction to Statistical  Learning  : Steve,   \n",
      "7. Introduction to Statistical  Learning  : Steve,   \n",
      "8. Introduction to Statistical   : Steve,   \n",
      "9. Introduction to Statistical   : Steve,   \n",
      "10. Introduction to Statistical  : Steve,   \n",
      "11. Introduction to Statistical  : Steve,   \n",
      "12. Introduction to Statistical  : Steve,   \n",
      "13. Introduction to Statistical  : Steve,   \n",
      "14. Introduction to Statistical  : Steve,   \n",
      "15. Introduction to Statistical  : Steve,   \n",
      "16. Introduction to Statistical  : Steve,   \n",
      "17. Introduction to Statistical  : Steve,   \n",
      "18. Introduction to Statistical  : Steve,   \n",
      "19. Introduction to Statistical  : Steve,   \n",
      "20. Introduction to Statistical  : Steve,   \n",
      "21. Introduction to Statistical  : Steve,   \n",
      "22. Introduction to Statistical  : Steve,   \n",
      "23. Introduction to Statistical  : Steve,   \n",
      "24. Introduction to Statistical  : Steve,   \n",
      "25. Introduction to Statistical  : Steve,   \n",
      "26. Introduction to Statistical  : Steve,   \n",
      "27. Introduction to Statistical  : Steve,   \n",
      "28. Introduction to Statistical  : Steve,   \n",
      "29. Introduction to Statistical  : Steve,   \n",
      "30. Introduction to Statistical  : Steve,   \n",
      "31. Introduction to Statistical  : Steve,   \n",
      "32. Introduction to Statistical  : Steve,   \n",
      "33. Introduction to Statistical  : Steve,   \n",
      "34. Introduction to Statistical  : Steve,   \n",
      "35. Introduction to Statistical  : Steve,   \n",
      "36. Introduction to Statistical  : Steve,   \n",
      "37. Introduction to Statistical  : Steve,   \n",
      "38. Introduction to Statistical  : Steve,   \n",
      "39. Introduction to Statistical  : Steve,   \n",
      "40. Introduction to Statistical  : Steve,   \n",
      "41. Introduction to Statistical  : Steve,   \n",
      "42. Introduction to Statistical  : Steve,   \n",
      "43. Introduction to Statistical  : Steve,   \n"
     ]
    }
   ],
   "source": [
    "\n",
    "query_pdf(\"What is the purpose of SC1015?\")"
   ]
  }
 ],
 "metadata": {
  "kernelspec": {
   "display_name": "Python 3",
   "language": "python",
   "name": "python3"
  },
  "language_info": {
   "codemirror_mode": {
    "name": "ipython",
    "version": 3
   },
   "file_extension": ".py",
   "mimetype": "text/x-python",
   "name": "python",
   "nbconvert_exporter": "python",
   "pygments_lexer": "ipython3",
   "version": "3.10.14"
  }
 },
 "nbformat": 4,
 "nbformat_minor": 2
}
